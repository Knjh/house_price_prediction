{
  "nbformat": 4,
  "nbformat_minor": 0,
  "metadata": {
    "colab": {
      "provenance": []
    },
    "kernelspec": {
      "name": "python3",
      "display_name": "Python 3"
    },
    "language_info": {
      "name": "python"
    }
  },
  "cells": [
    {
      "cell_type": "code",
      "source": [],
      "metadata": {
        "id": "6hV1iMr2LIpv"
      },
      "execution_count": null,
      "outputs": []
    },
    {
      "cell_type": "code",
      "source": [
        "import os\n",
        "import numpy as np\n",
        "import pandas as pd\n",
        "import matplotlib.pyplot as plt\n",
        "import seaborn as sns\n",
        "from scipy import stats\n",
        "from sklearn.model_selection import train_test_split\n",
        "from sklearn.metrics import mean_squared_error, mean_absolute_error\n",
        "from sklearn.linear_model import Lasso, Ridge\n",
        "import xgboost as xgb\n",
        "\n",
        "import warnings\n",
        "warnings.simplefilter(action='ignore')\n"
      ],
      "metadata": {
        "id": "Nthe6t1DLIsM"
      },
      "execution_count": null,
      "outputs": []
    },
    {
      "cell_type": "code",
      "source": [
        "#  Dataset Files\n",
        "def list_files(directory):\n",
        "    for dirname, _, filenames in os.walk(directory):\n",
        "        for filename in filenames:\n",
        "            print(os.path.join(dirname, filename))\n",
        "\n",
        "# file path\n",
        "data_dir = \"data\"\n",
        "list_files(data_dir)\n",
        "\n",
        "# Load Data\n",
        "train = pd.read_csv(data_dir + 'train.csv')\n",
        "test = pd.read_csv(data_dir + 'test.csv')\n"
      ],
      "metadata": {
        "id": "ZhdWcrf5LIu6"
      },
      "execution_count": null,
      "outputs": []
    },
    {
      "cell_type": "code",
      "source": [
        "# data Overview\n",
        "def data_summary(df, name):\n",
        "    print(f\"Dataset: {name}\")\n",
        "    print(f\"Shape: {df.shape}\")\n",
        "    print(df.head(), \"\\n\")\n",
        "\n",
        "data_summary(train, \"Train\")\n",
        "data_summary(test, \"Test\")\n",
        "\n",
        "# Droping unnecessary Columns\n",
        "train.drop(columns=['Id'], inplace=True)\n",
        "test.drop(columns=['Id'], inplace=True)"
      ],
      "metadata": {
        "id": "8uAN5Y-QLIxu"
      },
      "execution_count": null,
      "outputs": []
    },
    {
      "cell_type": "code",
      "source": [
        "# data Visualization\n",
        "def three_chart_plot(df, feature):\n",
        "    fig, axes = plt.subplots(1, 3, figsize=(15, 5))\n",
        "    sns.histplot(df[feature], kde=True, ax=axes[0]).set_title('Histogram')\n",
        "    stats.probplot(df[feature], plot=axes[1])\n",
        "    sns.boxplot(y=df[feature], ax=axes[2]).set_title('Box Plot')\n",
        "    plt.show()\n",
        "\n",
        "three_chart_plot(train, 'SalePrice')\n"
      ],
      "metadata": {
        "id": "477TnwAQLmkS"
      },
      "execution_count": null,
      "outputs": []
    },
    {
      "cell_type": "code",
      "source": [
        "# missing Values\n",
        "def missing_values_plot(data, threshold=20):\n",
        "    missing_perc = data.isnull().mean() * 100\n",
        "    missing_perc.sort_values(ascending=False).plot(kind='bar', color='red')\n",
        "    plt.axhline(y=threshold, color='blue', linestyle='--')\n",
        "    plt.title(\"Missing Values Percentage per Column\")\n",
        "    plt.show()\n",
        "\n",
        "missing_values_plot(train)\n",
        "\n",
        "# data preprocessing\n",
        "def preprocess_data(df):\n",
        "    df.fillna(df.median(), inplace=True)\n",
        "    return df\n",
        "\n",
        "train = preprocess_data(train)\n",
        "test = preprocess_data(test)\n",
        "\n",
        "# feature engineering\n",
        "def add_features(df):\n",
        "    df['TotalSF'] = df['TotalBsmtSF'] + df['1stFlrSF'] + df['2ndFlrSF']\n",
        "    df['TotalBathrooms'] = df['FullBath'] + 0.5 * df['HalfBath'] + df['BsmtFullBath'] + 0.5 * df['BsmtHalfBath']\n",
        "    return df\n",
        "train = add_features(train)\n",
        "test = add_features(test)\n"
      ],
      "metadata": {
        "id": "IBnUO5LKLm-1"
      },
      "execution_count": null,
      "outputs": []
    },
    {
      "cell_type": "code",
      "source": [
        "# Train-Test Split\n",
        "y = train['SalePrice']\n",
        "X = train.drop(columns=['SalePrice'])\n",
        "X_train, X_test, y_train, y_test = train_test_split(X, y, test_size=0.25, random_state=0)\n",
        "\n",
        "# Model Evaluation Function\n",
        "def evaluate_model(model, X_train, y_train, X_test, y_test):\n",
        "    train_pred = model.predict(X_train)\n",
        "    test_pred = model.predict(X_test)\n",
        "    print(f\"Train RMSE: {np.sqrt(mean_squared_error(y_train, train_pred))}\")\n",
        "    print(f\"Test RMSE: {np.sqrt(mean_squared_error(y_test, test_pred))}\\n\")\n"
      ],
      "metadata": {
        "id": "guRGEjZcLnBn"
      },
      "execution_count": null,
      "outputs": []
    },
    {
      "cell_type": "code",
      "source": [
        "# Train Models\n",
        "models = {\n",
        "    \"Lasso\": Lasso(alpha=0.1),\n",
        "    \"Ridge\": Ridge(alpha=0.1),\n",
        "    \"XGBoost\": xgb.XGBRegressor(n_estimators=1000, learning_rate=0.1)\n",
        "}\n",
        "\n",
        "for name, model in models.items():\n",
        "    print(f\"Training {name} Model...\")\n",
        "    model.fit(X_train, y_train)\n",
        "    evaluate_model(model, X_train, y_train, X_test, y_test)\n",
        "\n",
        "# Make Predictions\n",
        "final_model = models[\"Ridge\"]\n",
        "test_pred = final_model.predict(test)\n",
        "submission = pd.DataFrame({'Id': test.index, 'SalePrice': test_pred})\n",
        "submission.to_csv('submission.csv', index=False)\n",
        "print(\"Submission file created!\")"
      ],
      "metadata": {
        "id": "WyqXGPPCLnEh"
      },
      "execution_count": null,
      "outputs": []
    }
  ]
}